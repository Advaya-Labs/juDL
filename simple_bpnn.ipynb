{
 "cells": [
  {
   "cell_type": "code",
   "execution_count": 1,
   "metadata": {
    "collapsed": false
   },
   "outputs": [
    {
     "name": "stderr",
     "output_type": "stream",
     "text": [
      "WARNING: Base.String is deprecated, use AbstractString instead.\n",
      "  likely near /home/parasa/.julia/v0.4/ImageView/src/annotations.jl:43\n",
      "WARNING: Base.String is deprecated, use AbstractString instead.\n",
      "  likely near /home/parasa/.julia/v0.4/ImageView/src/annotations.jl:43\n",
      "WARNING: Base.String is deprecated, use AbstractString instead.\n",
      "  likely near /home/parasa/.julia/v0.4/ImageView/src/annotations.jl:61\n",
      "WARNING: Base.String is deprecated, use AbstractString instead.\n",
      "  likely near /home/parasa/.julia/v0.4/ImageView/src/annotations.jl:61\n",
      "WARNING: Base.String is deprecated, use AbstractString instead.\n",
      "  likely near /home/parasa/.julia/v0.4/ImageView/src/annotations.jl:61\n",
      "WARNING: Union(args...) is deprecated, use Union{args...} instead.\n",
      " in depwarn at deprecated.jl:73\n",
      " in call at deprecated.jl:50\n",
      " in include at ./boot.jl:261\n",
      " in include_from_node1 at ./loading.jl:320\n",
      " in include at ./boot.jl:261\n",
      " in include_from_node1 at ./loading.jl:320\n",
      " in require at ./loading.jl:259\n",
      " in include_string at loading.jl:282\n",
      " in execute_request_0x535c5df2 at /home/parasa/.julia/v0.4/IJulia/src/execute_request.jl:182\n",
      " in eventloop at /home/parasa/.julia/v0.4/IJulia/src/IJulia.jl:142\n",
      " in anonymous at task.jl:447\n",
      "while loading /home/parasa/.julia/v0.4/ImageView/src/annotations.jl, in expression starting on line 96\n",
      "WARNING: Union(args...) is deprecated, use Union{args...} instead.\n",
      " in depwarn at deprecated.jl:73\n",
      " in call at deprecated.jl:50\n",
      " in include at ./boot.jl:261\n",
      " in include_from_node1 at ./loading.jl:320\n",
      " in include at ./boot.jl:261\n",
      " in include_from_node1 at ./loading.jl:320\n",
      " in require at ./loading.jl:259\n",
      " in include_string at loading.jl:282\n",
      " in execute_request_0x535c5df2 at /home/parasa/.julia/v0.4/IJulia/src/execute_request.jl:182\n",
      " in eventloop at /home/parasa/.julia/v0.4/IJulia/src/IJulia.jl:142\n",
      " in anonymous at task.jl:447\n",
      "while loading /home/parasa/.julia/v0.4/ImageView/src/annotations.jl, in expression starting on line 96\n",
      "WARNING: Union(args...) is deprecated, use Union{args...} instead.\n",
      " in depwarn at deprecated.jl:73\n",
      " in call at deprecated.jl:50\n",
      " in include at ./boot.jl:261\n",
      " in include_from_node1 at ./loading.jl:320\n",
      " in include at ./boot.jl:261\n",
      " in include_from_node1 at ./loading.jl:320\n",
      " in require at ./loading.jl:259\n",
      " in include_string at loading.jl:282\n",
      " in execute_request_0x535c5df2 at /home/parasa/.julia/v0.4/IJulia/src/execute_request.jl:182\n",
      " in eventloop at /home/parasa/.julia/v0.4/IJulia/src/IJulia.jl:142\n",
      " in anonymous at task.jl:447\n",
      "while loading /home/parasa/.julia/v0.4/ImageView/src/annotations.jl, in expression starting on line 154\n",
      "\n",
      "WARNING: deprecated syntax \"AbstractVecOrMat{T} (\" at /home/parasa/.julia/v0.4/Winston/src/Winston.jl:96.\n",
      "Use \"AbstractVecOrMat{T}(\" instead.\n",
      "WARNING: requiring \"Dates\" in module \"Winston\" did not define a corresponding module.\n",
      "WARNING: module Winston should explicitly import * from Base\n",
      "WARNING: could not import Images.scaleinfo into ImageView\n",
      "WARNING: Base.Uint is deprecated, use UInt instead.\n",
      "  likely near /home/parasa/.julia/v0.4/ImageView/src/display.jl:27\n",
      "WARNING: Base.Uint32 is deprecated, use UInt32 instead.\n",
      "  likely near /home/parasa/.julia/v0.4/ImageView/src/display.jl:27\n",
      "WARNING: Base.Uint is deprecated, use UInt instead.\n",
      "  likely near /home/parasa/.julia/v0.4/ImageView/src/display.jl:412\n",
      "WARNING: Base.Uint is deprecated, use UInt instead.\n",
      "  likely near /home/parasa/.julia/v0.4/ImageView/src/display.jl:412\n"
     ]
    }
   ],
   "source": [
    "n_tr = 40000\n",
    "n_tst = 10000\n",
    "\n",
    "myμ = 0.5\n",
    "myη = 2.0\n",
    "    \n",
    "# Preparing the MNIST dataset for training & testing\n",
    "using MNIST, Images, ImageView;"
   ]
  },
  {
   "cell_type": "code",
   "execution_count": 2,
   "metadata": {
    "collapsed": false
   },
   "outputs": [],
   "source": [
    "# Gets samples from MNIST dataset\n",
    "function get_from_MNIST(mode, nsamples, view_digits = false)\n",
    "   \n",
    "    \n",
    "    if (mode == \"train\")\n",
    "        features = trainfeatures\n",
    "        labels = trainlabel\n",
    "         \n",
    "        X = Matrix{Float64}(nsamples, 784);  # There are 784 features in each of the feature vectors\n",
    "        Y = Matrix{Float64}(nsamples, 10 );  # One hot coding for each label\n",
    "    end\n",
    "    \n",
    "    if (mode == \"test\")\n",
    "        features = testfeatures\n",
    "        labels = testlabel       \n",
    "         \n",
    "        X = Matrix{Float64}(nsamples, 784);  # There are 784 features in each of the feature vectors\n",
    "        Y = Matrix{Int64}(nsamples, 1);  # No need for one hot coding\n",
    "    end\n",
    "    \n",
    "    \n",
    "    for i = 1 : nsamples\n",
    "        X[i, :] = features(i)'\n",
    "        \n",
    "        if(view_digits) \n",
    "            view(reshape(X[i,:], 28, 28))\n",
    "        end\n",
    "        \n",
    "        label = Int(labels(i))\n",
    "        \n",
    "        if(mode == \"train\")\n",
    "            onehot = zeros(1, 10)\n",
    "            onehot[label+1] = 1.0    \n",
    "            Y[i, :] = onehot        \n",
    "        end\n",
    "        \n",
    "        if(mode == \"test\")\n",
    "            Y[i, :] = label      \n",
    "        end\n",
    "       \n",
    "       \n",
    "    end\n",
    "    \n",
    "    return (X/255.0,Y)\n",
    "end\n",
    "\n",
    "#@time trX, trY = get_from_MNIST(\"train\", n_tr);\n",
    "#@time tstX, tstY = get_from_MNIST(\"test\", n_tst);\n",
    "\n",
    "#data = NN_Data(trX, trY, tstX, tstY);\n",
    "\n",
    "\n",
    "    "
   ]
  },
  {
   "cell_type": "code",
   "execution_count": 3,
   "metadata": {
    "collapsed": true
   },
   "outputs": [],
   "source": [
    "# Need to create a Julia type object for convenience\n",
    "\n",
    "typealias list Vector{Matrix{Float64}}\n",
    "\n",
    "sigmoid(z) = 1.0./(1.0 + exp(-z))\n",
    "tanh_opt(z) = 1.7159 * tanh(2/3.*z)\n",
    "\n",
    "type NN\n",
    "    layers\n",
    "    nlayers\n",
    "    nwts\n",
    "    #actiation functions of layers\n",
    "    f_hidden\n",
    "    f_output\n",
    "    W # list of weight matrices\n",
    "    \n",
    "    ## The paramets below won't be initialized in the constructor\n",
    "    \n",
    "    #training parameters and data structures\n",
    "    batch_size\n",
    "    a # list of activations of each layer\n",
    "    ∂a # derivatives of active functions \n",
    "    δ # list of delta matrices\n",
    "    η # learning rate\n",
    "    μ # momentum\n",
    "    ΔW # Weight updates\n",
    "    ηW # Momentum weights\n",
    "    err # error at the output layer\n",
    "    LossFunction # Loss/Cost Function\n",
    "    \n",
    "    #Constructor\n",
    "    function NN(layer_list)\n",
    "        layers = layer_list\n",
    "        nlayers = length(layers)\n",
    "        nwts = nlayers - 1 # number of weight matrices\n",
    "        W = list(nwts)\n",
    "        #ΔW = list(nwts)\n",
    "        #a = list(nlayers) #activations of each layer\n",
    "\n",
    "        # Initialzie the weight matrices\n",
    "\n",
    "        for i = 1 : nwts\n",
    "            rows = layers[i+1] #rows is the #neurons in the next layers\n",
    "            cols = layers[i] + 1 # cols is the #neurons in the present layer including the bias node\n",
    "            W[i] = (rand(rows, cols) - 0.5) * 8 * sqrt(6/(rows + cols)) #fancy initialization from DLTB\n",
    "            #ΔW[i] = zeros(rows, cols)\n",
    "        end\n",
    "\n",
    "        #activation functions of hidden and output layers. Input layer has no activation function.\n",
    "        f_hidden = tanh_opt\n",
    "        f_output = sigmoid\n",
    "        \n",
    "        new(layers, nlayers, nwts, f_hidden, f_output, W)\n",
    "        \n",
    "        \n",
    "    end\n",
    "    \n",
    "    \n",
    "end\n",
    "    "
   ]
  },
  {
   "cell_type": "code",
   "execution_count": 4,
   "metadata": {
    "collapsed": false
   },
   "outputs": [
    {
     "name": "stdout",
     "output_type": "stream",
     "text": [
      "  5.775383 seconds (5.08 M allocations: 1.231 GB, 3.16% gc time)\n"
     ]
    },
    {
     "name": "stderr",
     "output_type": "stream",
     "text": [
      "WARNING: Base.Uint32 is deprecated, use UInt32 instead.\n",
      "  likely near In[4]:155\n",
      "WARNING: Base.Uint32 is deprecated, use UInt32 instead.\n",
      "  likely near In[4]:155\n",
      "WARNING: Base.Uint32 is deprecated, use UInt32 instead.\n",
      "  likely near In[4]:155\n",
      "WARNING: Base.Uint is deprecated, use UInt instead.\n",
      "  likely near In[4]:155\n",
      "WARNING: Base.Uint is deprecated, use UInt instead.\n",
      "  likely near In[4]:155\n",
      "WARNING: Base.Uint is deprecated, use UInt instead.\n",
      "  likely near In[4]:155\n",
      "WARNING: Base.Uint is deprecated, use UInt instead.\n",
      "  likely near In[4]:155\n",
      "WARNING: Base.Uint is deprecated, use UInt instead.\n",
      "  likely near In[4]:155\n",
      "WARNING: Base.Uint is deprecated, use UInt instead.\n",
      "  likely near In[4]:155\n",
      "WARNING: Base.Uint is deprecated, use UInt instead.\n",
      "  likely near In[4]:155\n",
      "WARNING: Base.Uint is deprecated, use UInt instead.\n",
      "  likely near In[4]:155\n",
      "WARNING: Base.Uint is deprecated, use UInt instead.\n",
      "  likely near In[4]:155\n",
      "WARNING: Base.Uint is deprecated, use UInt instead.\n",
      "  likely near In[4]:155\n",
      "WARNING: Base.Uint8 is deprecated, use UInt8 instead.\n",
      "  likely near In[4]:155\n",
      "WARNING: Base.Uint8 is deprecated, use UInt8 instead.\n",
      "  likely near In[4]:155\n",
      "WARNING: Base.Uint32 is deprecated, use UInt32 instead.\n",
      "  likely near In[4]:155\n",
      "WARNING: Base.Uint32 is deprecated, use UInt32 instead.\n",
      "  likely near In[4]:155\n",
      "WARNING: Base.Uint32 is deprecated, use UInt32 instead.\n",
      "  likely near In[4]:155\n",
      "WARNING: Base.Uint32 is deprecated, use UInt32 instead.\n",
      "  likely near In[4]:155\n",
      "WARNING: Base.Uint32 is deprecated, use UInt32 instead.\n",
      "  likely near In[4]:155\n",
      "WARNING: Base.Uint32 is deprecated, use UInt32 instead.\n",
      "  likely near In[4]:155\n",
      "WARNING: Base.Uint8 is deprecated, use UInt8 instead.\n",
      "  likely near In[4]:155\n",
      "in x11encode at /home/parasa/.julia/v0.4/Tk/src/widgets.jl\n",
      "WARNING: Base.Uint8 is deprecated, use UInt8 instead.\n",
      "  likely near In[4]:155\n",
      "in x11encode at /home/parasa/.julia/v0.4/Tk/src/widgets.jl\n",
      "WARNING: Base.Uint8 is deprecated, use UInt8 instead.\n",
      "  likely near In[4]:155\n",
      "in x11encode at /home/parasa/.julia/v0.4/Tk/src/widgets.jl\n"
     ]
    },
    {
     "name": "stdout",
     "output_type": "stream",
     "text": [
      "  0.803616 seconds (443.19 k allocations: 277.423 MB, 16.12% gc time)\n"
     ]
    }
   ],
   "source": [
    "type Options\n",
    "    num_epochs\n",
    "    batch_size\n",
    "    verbose\n",
    "    \n",
    "    function Options(epochs, batchsize)\n",
    "        new(epochs, batchsize, true)\n",
    "    end\n",
    "end\n",
    "\n",
    "#options = Options(1, 100)\n",
    "\n",
    "type NN_Data\n",
    "    #training data\n",
    "    trainX\n",
    "    trainY\n",
    "    #testing data\n",
    "    testX\n",
    "    testY\n",
    "end\n",
    "\n",
    "@time trX, trY = get_from_MNIST(\"train\", n_tr);\n",
    "@time tstX, tstY = get_from_MNIST(\"test\", n_tst);\n",
    "\n",
    "data = NN_Data(trX, trY, tstX, tstY);\n",
    "\n",
    "    "
   ]
  },
  {
   "cell_type": "code",
   "execution_count": 5,
   "metadata": {
    "collapsed": false
   },
   "outputs": [
    {
     "ename": "LoadError",
     "evalue": "LoadError: UndefVarError: nn not defined\nwhile loading In[5], in expression starting on line 31",
     "output_type": "error",
     "traceback": [
      "LoadError: UndefVarError: nn not defined\nwhile loading In[5], in expression starting on line 31",
      ""
     ]
    }
   ],
   "source": [
    "function setup_train_nn(nn::NN, opts::Options)\n",
    "    nn.batch_size = opts.batch_size\n",
    "    nn.a = list(nn.nlayers)\n",
    "    #nn.∂a = list(nn.nlayers)\n",
    "    nn.δ = list(nn.nlayers)\n",
    "    nn.ΔW = list(nn.nwts)\n",
    "    nn.ηW = list(nn.nwts)\n",
    "    \n",
    "    nn.μ = 0.5 # momentum\n",
    "    nn.η = 0.2 # learning rate\n",
    "    nn.LossFunction = 0.0\n",
    "    \n",
    "    for i = 1 : nn.nwts\n",
    "        nn.ΔW[i] = zeros(size(nn.W[i]))\n",
    "        nn.ηW[i] = zeros(size(nn.W[i]))\n",
    "        \n",
    "        nn.a[i] = zeros(nn.batch_size, nn.layers[i] + 1) #account for bias nodes\n",
    "        #nn.∂a[i] = zeros(size(nn.a[i]))\n",
    "        nn.δ[i] = zeros(size(nn.a[i]))\n",
    "    end\n",
    "\n",
    "    #for output layer\n",
    "    n_output = nn.nlayers\n",
    "    nn.a[n_output] = zeros(nn.batch_size, n_output) # no need for bias node\n",
    "    #nn.∂a[n_output] = zeros(size(nn.a[n_output]))\n",
    "    nn.δ[n_output] = zeros(size(nn.a[n_output]))\n",
    "end\n",
    "\n",
    "#setup_train_nn(nn, 100)\n",
    "\n",
    "\n",
    "    \n",
    "    \n",
    "    \n",
    "    "
   ]
  },
  {
   "cell_type": "code",
   "execution_count": 6,
   "metadata": {
    "collapsed": false
   },
   "outputs": [
    {
     "data": {
      "text/plain": [
       "feed_forward (generic function with 1 method)"
      ]
     },
     "execution_count": 6,
     "metadata": {},
     "output_type": "execute_result"
    }
   ],
   "source": [
    "function feed_forward(nn::NN, batchX, batchY)\n",
    "    n = nn.nlayers\n",
    "    m = size(batchX, 1)\n",
    "    \n",
    "    x = batchX\n",
    "    y = batchY\n",
    "    \n",
    "    # Add bias terms to the input data and create input layer\n",
    "    x = [ones(m,1) x]\n",
    "    nn.a[1] = x\n",
    "    \n",
    "    # feed forward pass for hidden layers\n",
    "    for i = 2 : (n-1)\n",
    "        nn.a[i] = nn.f_hidden(nn.a[i-1] * nn.W[i-1]')\n",
    "        # add the bias terms for next layers\n",
    "        nn.a[i] = [ones(m,1) nn.a[i]]        \n",
    "    end\n",
    "    \n",
    "    #feed forward pass for output layer\n",
    "    nn.a[n] = nn.f_output(nn.a[n-1] * nn.W[n-1]')\n",
    "    \n",
    "    #Calculate error and loss function\n",
    "    nn.err = y - nn.a[n]\n",
    "    \n",
    "    if(nn.f_output == sigmoid)\n",
    "        nn.LossFunction = 0.5 * sum(sum(nn.err .^2))/m\n",
    "        #println(nn.LossFunction)\n",
    "    end\n",
    "    \n",
    "end"
   ]
  },
  {
   "cell_type": "code",
   "execution_count": 7,
   "metadata": {
    "collapsed": false
   },
   "outputs": [
    {
     "data": {
      "text/plain": [
       "back_prop (generic function with 1 method)"
      ]
     },
     "execution_count": 7,
     "metadata": {},
     "output_type": "execute_result"
    }
   ],
   "source": [
    "function back_prop(nn::NN)\n",
    "    n = nn.nlayers\n",
    "    \n",
    "    #Calculate the output layer δ\n",
    "    if(nn.f_output == sigmoid)\n",
    "        nn.δ[n] = -nn.err .* (nn.a[n] .* (1 - nn.a[n]))\n",
    "    end\n",
    "    \n",
    "    #backpropgate to the lower layers\n",
    "    ∂act = Matrix{Float64}[]\n",
    "    \n",
    "    for i = (n-1) : -1 : 2\n",
    "        \n",
    "        #derivatives of activation function\n",
    "        if(nn.f_hidden == sigmoid)\n",
    "            ∂act = nn.a[i] .* (nn.a[n] .* (1 - nn.a[n]))\n",
    "        elseif(nn.f_hidden == tanh_opt)\n",
    "            ∂act = 1.7159 * 2/3 * (1 - 1/(1.7159)^2 * nn.a[i].^2)\n",
    "        end\n",
    "        \n",
    "        # back propagate the derivatives\n",
    "        \n",
    "        if (i+1 == n)\n",
    "            nn.δ[i] = (nn.δ[i+1] * nn.W[i]) .* ∂act\n",
    "        else\n",
    "            nn.δ[i] = (nn.δ[i+1][:, 2:end] * nn.W[i]) .* ∂act\n",
    "        end     \n",
    "        \n",
    "    end\n",
    "    \n",
    "    for i = 1 : (n-1)\n",
    "        if(i+1 == n)\n",
    "            nn.ΔW[i] = (nn.δ[i+1]' * nn.a[i])/size(nn.δ[i+1], 1)\n",
    "        else\n",
    "            nn.ΔW[i] = (nn.δ[i+1][:, 2:end]' * nn.a[i])/size(nn.δ[i+1], 1)\n",
    "        end\n",
    "    end\n",
    "      \n",
    "end\n"
   ]
  },
  {
   "cell_type": "code",
   "execution_count": 8,
   "metadata": {
    "collapsed": false
   },
   "outputs": [
    {
     "data": {
      "text/plain": [
       "apply_gradients (generic function with 1 method)"
      ]
     },
     "execution_count": 8,
     "metadata": {},
     "output_type": "execute_result"
    }
   ],
   "source": [
    "function apply_gradients(nn::NN)\n",
    "    \n",
    "    dW = Matrix{Float64}[]\n",
    "    \n",
    "    for i = 1 : nn.nwts\n",
    "        dW = nn.η * nn.ΔW[i]\n",
    "        \n",
    "        if(nn.η > 0.0)\n",
    "            nn.ηW[i] = nn.η * nn.ηW[i] + dW\n",
    "            dW = nn.ηW[i]\n",
    "        end\n",
    "        \n",
    "        nn.W[i] -= dW\n",
    "    end\n",
    "end\n"
   ]
  },
  {
   "cell_type": "code",
   "execution_count": 9,
   "metadata": {
    "collapsed": false
   },
   "outputs": [
    {
     "data": {
      "text/plain": [
       "trainNN (generic function with 1 method)"
      ]
     },
     "execution_count": 9,
     "metadata": {},
     "output_type": "execute_result"
    }
   ],
   "source": [
    "function trainNN(nn::NN, opts::Options, data::NN_Data)\n",
    "    \n",
    "    # Number of training samples\n",
    "    m = size(data.trainX, 1) \n",
    "    batch_size = opts.batch_size\n",
    "    num_epochs = opts.num_epochs\n",
    "    num_batches = Int(m/batch_size)\n",
    "    \n",
    "    Loss = zeros(num_epochs * num_batches, 1)\n",
    "    cnt = 1\n",
    "    \n",
    "    #Setups the datastructures for the traning the NN\n",
    "    setup_train_nn(nn, opts)\n",
    "    \n",
    "    for i = 1 : num_epochs\n",
    "        tic()\n",
    "        \n",
    "        #Create a random permutation of the training dataset for each epoch\n",
    "        rp = randperm(m)\n",
    "        \n",
    "        for j = 1 : num_batches\n",
    "            \n",
    "            batch_start = (j-1) * batch_size + 1\n",
    "            batch_end = batch_start + batch_size - 1            \n",
    "            batch_indices = rp[batch_start : batch_end]\n",
    "            \n",
    "            batchX = data.trainX[batch_indices, :]\n",
    "            batchY = data.trainY[batch_indices, :]\n",
    "            \n",
    "            feed_forward(nn, batchX, batchY)\n",
    "            back_prop(nn)\n",
    "            apply_gradients(nn)\n",
    "            Loss[cnt] = nn.LossFunction\n",
    "            cnt = cnt + 1\n",
    "            \n",
    "            \n",
    "        end\n",
    "        \n",
    "        toc()\n",
    "        \n",
    "    end\n",
    "    \n",
    "    return Loss\n",
    "\n",
    "end\n",
    "\n"
   ]
  },
  {
   "cell_type": "code",
   "execution_count": 10,
   "metadata": {
    "collapsed": false
   },
   "outputs": [
    {
     "name": "stdout",
     "output_type": "stream",
     "text": [
      "elapsed time: 3.651900101 seconds\n"
     ]
    },
    {
     "data": {
      "text/plain": [
       "400x1 Array{Float64,2}:\n",
       " 2.38695 \n",
       " 1.62639 \n",
       " 0.981767\n",
       " 0.688936\n",
       " 0.579015\n",
       " 0.53477 \n",
       " 0.527506\n",
       " 0.530504\n",
       " 0.49511 \n",
       " 0.488846\n",
       " 0.50099 \n",
       " 0.487857\n",
       " 0.448156\n",
       " ⋮       \n",
       " 0.189249\n",
       " 0.237846\n",
       " 0.195543\n",
       " 0.187023\n",
       " 0.175999\n",
       " 0.19559 \n",
       " 0.177906\n",
       " 0.183817\n",
       " 0.223512\n",
       " 0.218507\n",
       " 0.182072\n",
       " 0.163328"
      ]
     },
     "execution_count": 10,
     "metadata": {},
     "output_type": "execute_result"
    }
   ],
   "source": [
    "nn = NN([784 100 10])\n",
    "nn.μ = myμ\n",
    "nn.η = myη\n",
    "opts = Options(1, 100)\n",
    "#setup_train_nn(nn, opts)\n",
    "loss = trainNN(nn, opts, data)\n"
   ]
  },
  {
   "cell_type": "code",
   "execution_count": 11,
   "metadata": {
    "collapsed": false,
    "scrolled": true
   },
   "outputs": [
    {
     "data": {
      "image/png": "[encoded data removed]",
      "text/plain": [
       "Winston.FramedPlot(...)"
      ]
     },
     "execution_count": 11,
     "metadata": {},
     "output_type": "execute_result"
    }
   ],
   "source": [
    "using Winston\n",
    "plot(loss)"
   ]
  },
  {
   "cell_type": "code",
   "execution_count": 12,
   "metadata": {
    "collapsed": false
   },
   "outputs": [
    {
     "data": {
      "text/plain": [
       "feed_forward_test (generic function with 1 method)"
      ]
     },
     "execution_count": 12,
     "metadata": {},
     "output_type": "execute_result"
    }
   ],
   "source": [
    "function feed_forward_test(nn::NN, testX)\n",
    "    n = nn.nlayers\n",
    "    m = size(testX, 1)\n",
    "    \n",
    "    x = testX\n",
    "       \n",
    "    # Add bias terms to the input data and create input layer\n",
    "    x = [ones(m,1) x]\n",
    "    nn.a[1] = x\n",
    "    \n",
    "    # feed forward pass for hidden layers\n",
    "    for i = 2 : (n-1)\n",
    "        nn.a[i] = nn.f_hidden(nn.a[i-1] * nn.W[i-1]')\n",
    "        # add the bias terms for next layers\n",
    "        nn.a[i] = [ones(m,1) nn.a[i]]        \n",
    "    end\n",
    "    \n",
    "    #feed forward pass for output layer\n",
    "    nn.a[n] = nn.f_output(nn.a[n-1] * nn.W[n-1]')\n",
    "  \n",
    "end\n",
    "\n"
   ]
  },
  {
   "cell_type": "code",
   "execution_count": 13,
   "metadata": {
    "collapsed": false
   },
   "outputs": [
    {
     "data": {
      "text/plain": [
       "nntest (generic function with 1 method)"
      ]
     },
     "execution_count": 13,
     "metadata": {},
     "output_type": "execute_result"
    }
   ],
   "source": [
    "function nntest(nn::NN, testX, testY)\n",
    "    feed_forward_test(nn, testX)\n",
    "    output = nn.a[end]\n",
    "    m = size(output, 1)\n",
    "    predicted_labels = Vector{Int64}(m)\n",
    "    \n",
    "    for i = 1 : m\n",
    "        mx = maximum(output[i,:])\n",
    "        idx = find(output[i,:] .== mx)\n",
    "        predicted_labels[i] = idx[1] - 1\n",
    "    end\n",
    "    \n",
    "    accuracy = sum(predicted_labels .== testY)/m\n",
    "    return accuracy\n",
    "end\n"
   ]
  },
  {
   "cell_type": "code",
   "execution_count": 14,
   "metadata": {
    "collapsed": false
   },
   "outputs": [
    {
     "data": {
      "text/plain": [
       "0.7241"
      ]
     },
     "execution_count": 14,
     "metadata": {},
     "output_type": "execute_result"
    }
   ],
   "source": [
    "#feed_forward_test(nn, data.testX)\n",
    "efficieny = nntest(nn, data.testX, data.testY)\n"
   ]
  },
  {
   "cell_type": "code",
   "execution_count": null,
   "metadata": {
    "collapsed": true
   },
   "outputs": [],
   "source": []
  }
 ],
 "metadata": {
  "kernelspec": {
   "display_name": "Julia 0.4.5",
   "language": "julia",
   "name": "julia-0.4"
  },
  "language_info": {
   "file_extension": ".jl",
   "mimetype": "application/julia",
   "name": "julia",
   "version": "0.4.5"
  }
 },
 "nbformat": 4,
 "nbformat_minor": 0
}
